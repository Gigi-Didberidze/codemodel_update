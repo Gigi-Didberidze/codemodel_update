{
 "cells": [
  {
   "cell_type": "code",
   "execution_count": 16,
   "id": "5dcc2c61-7c35-4327-9154-ec67326ce05e",
   "metadata": {},
   "outputs": [],
   "source": [
    "from xml.dom import minidom\n",
    "import json"
   ]
  },
  {
   "cell_type": "code",
   "execution_count": 2,
   "id": "86baa4b4-6605-409a-ab08-8000724f4397",
   "metadata": {},
   "outputs": [],
   "source": [
    "mydoc = minidom.parse('function_test_suite.xml')"
   ]
  },
  {
   "cell_type": "code",
   "execution_count": 3,
   "id": "eb3fdf61-be3a-4666-84b6-bebd71a91525",
   "metadata": {},
   "outputs": [],
   "source": [
    "items = mydoc.getElementsByTagName('testsuite')"
   ]
  },
  {
   "cell_type": "code",
   "execution_count": 4,
   "id": "1a2ebc74-55a4-4327-904e-1d0c51206e9b",
   "metadata": {},
   "outputs": [
    {
     "name": "stdout",
     "output_type": "stream",
     "text": [
      "name: sft_upf_l2tp\n",
      "#tests: 47\n",
      "#failures: 0\n",
      "#errors: 0\n",
      "time: 6.623\n",
      "#disabled: 0\n"
     ]
    }
   ],
   "source": [
    "print(\"name: \" + items[0].attributes['name'].value)\n",
    "print(\"#tests: \" + items[0].attributes['tests'].value)\n",
    "print(\"#failures: \" + items[0].attributes['failures'].value)\n",
    "print(\"#errors: \" + items[0].attributes['errors'].value)\n",
    "print(\"time: \" + items[0].attributes['time'].value)\n",
    "print(\"#disabled: \" + items[0].attributes['disabled'].value)"
   ]
  },
  {
   "cell_type": "code",
   "execution_count": 8,
   "id": "01629383-bd94-4dd7-b489-dd156921e7bd",
   "metadata": {},
   "outputs": [],
   "source": [
    "items_testcase = mydoc.getElementsByTagName('testcase')"
   ]
  },
  {
   "cell_type": "code",
   "execution_count": 9,
   "id": "95b59441-bca7-48aa-9b07-ca8dffa49406",
   "metadata": {},
   "outputs": [
    {
     "name": "stdout",
     "output_type": "stream",
     "text": [
      "PASS 0.145 TC38410_l2tp_basic\n",
      "PASS 0.147 TC39889_l2tp_swap_config\n",
      "PASS 0.237 TC39988_l2tp_minimum_optional_info\n",
      "PASS 0.132 TC40178_l2tp_lns_to_lep_tube\n",
      "PASS 0.100 TC40179_l2tp_lep_to_lns_tube\n",
      "PASS 0.125 TC40241_l2tp_no_conn_info_lac\n",
      "PASS 0.128 TC40554_l2tp_lns_assigned_ueip\n",
      "PASS 0.151 TC41129_l2tp_upf_config_print\n",
      "PASS 0.060 TC41170_l2tp_lns_assigned_ueip_single_dns\n",
      "PASS 0.117 TC41171_l2tp_lns_assigned_ueip_multiple_dns\n",
      "PASS 0.124 TC41454_l2tp_fail_invalid_lac_context\n",
      "PASS 0.118 TC41455_l2tp_fail_invalid_lac_in_l2tp_ie\n",
      "PASS 0.146 TC41783_l2tp_end_user_downlink_fwd_to_active\n",
      "PASS 0.156 TC42185_l2tp_lns_assigned_ueip_no_dl_payload_ueip\n",
      "PASS 0.235 TC42231_l2tp_fail_lep_open_call_nok\n",
      "PASS 0.105 TC42236_l2tp_fail_lep_delete_call_nok\n",
      "PASS 0.106 TC42272_l2tp_fail_reject_ipv6\n",
      "PASS 0.164 TC42273_l2tp_fail_reject_ipv46\n",
      "PASS 0.165 TC42307_l2tp_fail_reject_est_create_pdr_framed_route\n",
      "PASS 0.290 TC42310_l2tp_fail_reject_mod_create_pdr_framed_route\n",
      "PASS 0.134 TC42313_l2tp_fail_reject_mod_update_pdr_framed_route\n",
      "PASS 0.109 TC42492_l2tp_session_terminate_all\n",
      "PASS 0.226 TC42641_l2tp_session_terminate_by_lep_sccn\n",
      "PASS 0.082 TC42730_l2tp_session_terminate_by_lep_cdn\n",
      "PASS 0.095 TC42731_l2tp_session_terminate_by_lep_conn_fail\n",
      "PASS 0.108 TC42732_l2tp_session_terminate_by_lep_sccn_no_ec\n",
      "PASS 0.114 TC42733_l2tp_session_terminate_by_lep_cdn_no_ec\n",
      "PASS 0.177 TC42739_l2tp_session_terminate_by_lep_usage_report\n",
      "PASS 0.138 TC42745_l2tp_fail_missing_session_terminated_by_lep\n",
      "PASS 0.084 TC42802_l2tp_captured_dl_packet_verification\n",
      "PASS 0.098 TC42859_l2tp_session_establishment_terminate\n",
      "PASS 0.141 TC43075_l2tp_fail_duplicate_teid_abortion\n",
      "PASS 0.093 TC43210_l2tp_fail_session_establishment_timeout\n",
      "PASS 0.222 TC43258_l2tp_fail_seid_not_found_at_call_opened_delete\n",
      "PASS 0.071 TC43305_l2tp_fail_conflict_open_call_response\n",
      "PASS 0.080 TC43606_l2tp_resilience_reprovisioning_uplink_payload_triggered\n",
      "PASS 0.120 TC43608_l2tp_session_reprovisioning_no_entry_in_the_database\n",
      "PASS 0.089 TC43609_l2tp_resilience_reprovisioning_downlink_payload_triggered\n",
      "PASS 0.068 TC43626_l2tp_resilience_reprovisioning_pfcp_signaling_triggered\n",
      "PASS 0.155 TC43631_l2tp_resilience_reprovisioning_lep_signaling_triggered\n",
      "PASS 0.159 TC43730_l2tp_duplicate_l2tp_secondary_key_abortion\n",
      "PASS 0.229 TC44423_l2tp_call_opened_without_open_call_response\n",
      "PASS 0.189 TC44431_l2tp_call_deleted_without_delete_call_response\n",
      "PASS 0.130 TC45101_l2tp_lns_without_connection_info\n",
      "PASS 0.086 TC45703_l2tp_session_deletion_terminate\n",
      "PASS 0.357 TC45723_l2tp_session_deletion_terminate_with_no_call_deleted\n",
      "PASS 0.121 TC46127_l2tp_lns_without_apn\n"
     ]
    }
   ],
   "source": [
    "for tcase in items_testcase:\n",
    "    print(tcase.attributes['status'].value + \" \" + tcase.attributes['time'].value + \" \" + tcase.attributes['name'].value)"
   ]
  },
  {
   "cell_type": "code",
   "execution_count": 10,
   "id": "27596711-3f9b-4817-b86b-9c2e0f0021e0",
   "metadata": {},
   "outputs": [],
   "source": [
    "json_converted = {}\n",
    "mydoc = minidom.parse('function_test_suite.xml')\n",
    "items = mydoc.getElementsByTagName('testsuite')\n",
    "items_testcase = mydoc.getElementsByTagName('testcase')"
   ]
  },
  {
   "cell_type": "code",
   "execution_count": 13,
   "id": "e7b5052e-5e23-48aa-9fa1-e4cd93e6719f",
   "metadata": {},
   "outputs": [],
   "source": [
    "json_converted['test_suite'] = []\n",
    "json_converted['test_suite'].append({\n",
    "    'name': items[0].attributes['name'].value,\n",
    "    '#tests': float(items[0].attributes['tests'].value),\n",
    "    'failures': float(items[0].attributes['failures'].value),\n",
    "    'errors': float(items[0].attributes['errors'].value),\n",
    "    'time': float(items[0].attributes['time'].value),\n",
    "    'disabled': float(items[0].attributes['disabled'].value),\n",
    "})"
   ]
  },
  {
   "cell_type": "code",
   "execution_count": 14,
   "id": "603f02f1-a37c-4a4e-bda6-c2f38e96a38e",
   "metadata": {},
   "outputs": [],
   "source": [
    "json_converted['test_case'] = []\n",
    "for i in items_testcase:\n",
    "    json_converted['test_case'].append({\n",
    "        'status': i.attributes['status'].value,\n",
    "        'time': float(i.attributes['time'].value),\n",
    "        'name': i.attributes['name'].value,\n",
    "    })"
   ]
  },
  {
   "cell_type": "code",
   "execution_count": 17,
   "id": "3119e937-a5bb-4c44-a5a7-2d8eb907e5a1",
   "metadata": {},
   "outputs": [],
   "source": [
    "with open('data_from_xml.json', 'w') as outfile:\n",
    "    json.dump(json_converted, outfile)"
   ]
  }
 ],
 "metadata": {
  "kernelspec": {
   "display_name": "Python 3",
   "language": "python",
   "name": "python3"
  },
  "language_info": {
   "codemirror_mode": {
    "name": "ipython",
    "version": 3
   },
   "file_extension": ".py",
   "mimetype": "text/x-python",
   "name": "python",
   "nbconvert_exporter": "python",
   "pygments_lexer": "ipython3",
   "version": "3.7.8"
  }
 },
 "nbformat": 4,
 "nbformat_minor": 5
}
